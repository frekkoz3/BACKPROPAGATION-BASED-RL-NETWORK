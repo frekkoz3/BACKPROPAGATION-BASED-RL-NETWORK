{
 "cells": [
  {
   "cell_type": "markdown",
   "metadata": {},
   "source": [
    "# FIRST TRY\n",
    "\n",
    "ora proviamo, con tutto ciò che fino ad ora abbiamo implementato, a sviluppare qualcosa.\n",
    "\n",
    "plausibile che useremo come primo esperimento niente meno che \"jump\", il gioco del dinosauro di google."
   ]
  },
  {
   "cell_type": "code",
   "execution_count": 4,
   "metadata": {},
   "outputs": [
    {
     "name": "stdout",
     "output_type": "stream",
     "text": [
      "pygame 2.5.2 (SDL 2.28.3, Python 3.12.3)\n",
      "Hello from the pygame community. https://www.pygame.org/contribute.html\n"
     ]
    }
   ],
   "source": [
    "import numpy as np\n",
    "import keras\n",
    "import random\n",
    "import pygame"
   ]
  },
  {
   "cell_type": "markdown",
   "metadata": {},
   "source": [
    "usiamo (copia ed incollando) la rescaled probability function"
   ]
  },
  {
   "cell_type": "code",
   "execution_count": 2,
   "metadata": {},
   "outputs": [],
   "source": [
    "def target_linear_rescaled_distribution(reward, royal_action, starting_distribution):\n",
    "\n",
    "    assert reward >= -1 and reward <= 1, 'reward must be between -1 and 1'\n",
    "\n",
    "    starting_distribution = np.array(starting_distribution)\n",
    "    coefficient = np.zeros(len(starting_distribution))\n",
    "    new_royal_probability = min(1, starting_distribution[royal_action]*(1 + reward))\n",
    "    coefficient[royal_action] = new_royal_probability # this is not the real coefficient we use it to be quicker\n",
    "\n",
    "    if new_royal_probability == 1:\n",
    "        return coefficient #just a trick to be quicker in case we hit a 1\n",
    "    \n",
    "    rest = starting_distribution[royal_action]*reward\n",
    "    sum_others = 1 - starting_distribution[royal_action]\n",
    "    ratio = rest/sum_others\n",
    "\n",
    "    coefficient = np.ones(len(starting_distribution))*(1 - ratio)\n",
    "    coefficient[royal_action] = (1 + reward)\n",
    "    \n",
    "    return starting_distribution*coefficient.T"
   ]
  },
  {
   "cell_type": "markdown",
   "metadata": {},
   "source": [
    "la custom network (anch'essa copia ed incollata)"
   ]
  },
  {
   "cell_type": "code",
   "execution_count": 3,
   "metadata": {},
   "outputs": [],
   "source": [
    "class CustomModel(keras.Model):\n",
    "    def __init__(self, input_size, number_of_hidden, output_size, hidden_size, activ = \"relu\", out_activ = \"softmax\"):\n",
    "        super().__init__()\n",
    "        self.input1 = keras.Input(shape=(input_size,)) # gli input sono 4\n",
    "        self.hidden = []\n",
    "        for i in range (number_of_hidden):\n",
    "            self.hidden.append(keras.layers.Dense(hidden_size[i], activation = activ))\n",
    "        self.output1 = keras.layers.Dense(output_size, activation = out_activ)\n",
    "\n",
    "    def call(self, inputs):\n",
    "        x = inputs\n",
    "        for h in self.hidden:\n",
    "            x = h(x)\n",
    "        return self.output1(x)"
   ]
  },
  {
   "cell_type": "markdown",
   "metadata": {},
   "source": [
    "ed ora definiamo il gioco"
   ]
  },
  {
   "cell_type": "code",
   "execution_count": 5,
   "metadata": {},
   "outputs": [
    {
     "name": "stdout",
     "output_type": "stream",
     "text": [
      "Hai perso!\n"
     ]
    }
   ],
   "source": [
    "import pygame\n",
    "import random\n",
    "\n",
    "# Inizializzazione di pygame\n",
    "pygame.init()\n",
    "\n",
    "# Dimensioni della finestra\n",
    "width, height = 800, 500\n",
    "win = pygame.display.set_mode((width, height))\n",
    "pygame.display.set_caption(\"player Jump\")\n",
    "\n",
    "# Colori\n",
    "white = (255, 255, 255)\n",
    "black = (0, 0, 0)\n",
    "red = (255, 0, 0)\n",
    "\n",
    "# Parametri del player\n",
    "player_width, player_height = 50, 50\n",
    "player_x = 50\n",
    "player_y = height - player_height - 20\n",
    "player_velocity = 20\n",
    "gravity = 1\n",
    "jump_strength = -20\n",
    "\n",
    "ground = height - 20\n",
    "\n",
    "obstacle_width, obstacle_height = 20, 40\n",
    "obstacle_speed = 10\n",
    "obstacle_frequency = 1500  # millisecondi tra l'apparizione di un nuovo ostacolo\n",
    "\n",
    "# Inizializza il clock\n",
    "clock = pygame.time.Clock()\n",
    "\n",
    "# Lista degli ostacoli\n",
    "obstacles = []\n",
    "spawn_time = 0\n",
    "\n",
    "# Variabili del player\n",
    "is_jumping = False\n",
    "player_y_velocity = 0\n",
    "\n",
    "# Costruzione del player\n",
    "\n",
    "player = CustomModel()\n",
    "\n",
    "# Funzione per disegnare il playersauro\n",
    "def draw_player(x, y):\n",
    "    pygame.draw.rect(win, black, (x, y, player_width, player_height))\n",
    "\n",
    "# Funzione per disegnare gli ostacoli\n",
    "def draw_obstacle(obstacle):\n",
    "    pygame.draw.rect(win, red, obstacle)\n",
    "\n",
    "# Funzione per controllare le collisioni\n",
    "def check_collision(player_rect, obstacles):\n",
    "    for obstacle in obstacles:\n",
    "        if player_rect.colliderect(obstacle):\n",
    "            return True\n",
    "    return False\n",
    "\n",
    "# Funzione per mostrare il punteggio\n",
    "def draw_score(win, score, font_size=36):\n",
    "    font = pygame.font.SysFont(None, font_size)\n",
    "    score_text = font.render(f\"Score: {score}\", True, (0, 0, 0))\n",
    "    text_rect = score_text.get_rect(center=(width // 2, 20))\n",
    "    win.blit(score_text, text_rect)\n",
    "\n",
    "fps = 60\n",
    "score = 0\n",
    "\n",
    "# Loop principale\n",
    "running = True\n",
    "while running:\n",
    "    clock.tick(fps)\n",
    "    win.fill(white)\n",
    "    score += 1\n",
    "\n",
    "    draw_score(win, score, font_size=36)\n",
    "\n",
    "    # Gestione eventi\n",
    "    for event in pygame.event.get():\n",
    "        if event.type == pygame.QUIT:\n",
    "            running = False\n",
    "\n",
    "    # Controllo del salto\n",
    "    keys = pygame.key.get_pressed()\n",
    "    # keys = player.choose(env)\n",
    "    if keys[pygame.K_SPACE] and not is_jumping:\n",
    "        is_jumping = True\n",
    "        player_y_velocity = jump_strength\n",
    "\n",
    "    # Movimento del playersauro\n",
    "    if is_jumping:\n",
    "        player_y += player_y_velocity\n",
    "        player_y_velocity += gravity\n",
    "        if player_y >= ground - player_height:\n",
    "            player_y = ground - player_height\n",
    "            is_jumping = False\n",
    "\n",
    "    # Gestione degli ostacoli\n",
    "    current_time = pygame.time.get_ticks()\n",
    "    if current_time - spawn_time > obstacle_frequency:\n",
    "        obstacle_x = width\n",
    "        obstacle_y = ground - obstacle_height\n",
    "        obstacles.append(pygame.Rect(obstacle_x, obstacle_y, obstacle_width, obstacle_height))\n",
    "        spawn_time = current_time\n",
    "        obstacle_frequency = random.randint(800, 1500)\n",
    "        obstacle_speed += 0.1\n",
    "\n",
    "    # Movimento degli ostacoli\n",
    "    for obstacle in obstacles:\n",
    "        obstacle.x -= obstacle_speed\n",
    "        draw_obstacle(obstacle)\n",
    "\n",
    "    # Rimozione degli ostacoli fuori schermo\n",
    "    obstacles = [obstacle for obstacle in obstacles if obstacle.x + obstacle_width > 0]\n",
    "\n",
    "    # Controllo delle collisioni\n",
    "    player_rect = pygame.Rect(player_x, player_y, player_width, player_height)\n",
    "    if check_collision(player_rect, obstacles):\n",
    "        print(\"Hai perso!\")\n",
    "        running = False\n",
    "\n",
    "    # Disegna il playersauro\n",
    "    draw_player(player_x, player_y)\n",
    "\n",
    "    # Aggiorna la finestra\n",
    "    pygame.display.update()\n",
    "\n",
    "pygame.quit()"
   ]
  }
 ],
 "metadata": {
  "kernelspec": {
   "display_name": "Python 3",
   "language": "python",
   "name": "python3"
  },
  "language_info": {
   "codemirror_mode": {
    "name": "ipython",
    "version": 3
   },
   "file_extension": ".py",
   "mimetype": "text/x-python",
   "name": "python",
   "nbconvert_exporter": "python",
   "pygments_lexer": "ipython3",
   "version": "3.12.3"
  }
 },
 "nbformat": 4,
 "nbformat_minor": 2
}
