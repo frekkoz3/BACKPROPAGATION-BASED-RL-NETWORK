{
 "cells": [
  {
   "cell_type": "markdown",
   "metadata": {},
   "source": [
    "# TARGET PROBABILITY FUNCTION\n",
    "\n",
    "Il ruolo di questo notebook è definire una funzione che, dati i numeri di azioni possibili (mappiamo ad ogni azione un indice), il \"reward\" ricevuto (normalizzato tra 1 e -1) e la sequenza di azioni eseguite definisca una funzione di probabilità discreta ad ogni passo. Per far capire come lavora questa funzione di probabilità target usiamo un esempio pratico (con reward 1 per semplificarci le cose):\n",
    "\n",
    "si supponga di avere solo 3 possibili azioni :  A, B, C; \n",
    "\n",
    "immaginiamo che la nostra \"action history\" sia la seguente : 1->A; 2->B; 3->C (solo 3 passi)\n",
    "\n",
    "noi siamo sicuri solo delle ultime azioni (che ci hanno portato al reward) mentre del resto siamo insicuri, per questo motivo, linearmente, decresciamo la certezza sull'aver compiuto \"l'azione corretta\". Allora come procediamo? Procediamo come segue: \n",
    "\n",
    "definiamo la funzione di probabilità target così:\n",
    "\n",
    "| | 3 | 2 | 1 |\n",
    "|-|-|-|-|\n",
    "|A|0 |0.175|0.5|\n",
    "|B|0|0.75|0.25|\n",
    "|C|1|0.175|0.25|\n",
    "\n",
    "ossia : \n",
    "1. definiamo la probabilità dell'ultima azione come 1. il restante sarà 0.\n",
    "2. calcoliamo il \"passo\", ossia di quanto deve decrementare linearmente la probabilità dell' \"azione compiuta\". Il metodo è immediato: abbiamo una probabilità finale a cui vogliamo puntare (generalmente 0.5 ma si possono pensare altre strategie) e dunque il \"passo\" sarà (1 - 0.5)/numero_azioni_compiute.\n",
    "3. ci basta quindi ad ogni passo iterativamente sottrarre la probabilità dell'azione compiuta ed abbiamo finito il nostro lavoro. il resto d'altronde ci è sufficientemente \"colmarlo\" distribuendo la probabilità restante uniformamente sulle altre azioni. \n",
    "\n",
    "il reward si introduce in realtà in maniera più intelligente di quella sovra descritta ed è sufficiente leggere il codice per derivare le formule matematiche usate per esso. le implementazioni a reward positivo ed a reward negativo sono leggermente diverse.\n",
    "\n",
    "per far capire, nel caso precedente, a reward negativo -1 dovevamo ottenere la seguente funzione target (ci vogliamo allontare il più possibile da ciò che abbiamo compiuto).\n",
    "\n",
    "| | 3 | 2 | 1 |\n",
    "|-|-|-|-|\n",
    "|A|0.5 |0.375|0.5|\n",
    "|B|0.5|0.25|0.25|\n",
    "|C|0|0.375|0.25|"
   ]
  },
  {
   "cell_type": "markdown",
   "metadata": {},
   "source": [
    "il reward è definito in modo tale che, con r = 0 otteniamo la distribuzione uniforme discreta (bisogna fare uno shuffle) mentre tutti i valori maggiori ci fanno ottenere distribuzioni discrete \"a favore\" delle azioni che abbiamo compiuto. non sempre sono \"nettamente\" a favore ma rispettano sempre le proprietà di decrescita."
   ]
  },
  {
   "cell_type": "code",
   "execution_count": 1,
   "metadata": {},
   "outputs": [],
   "source": [
    "import numpy as np"
   ]
  },
  {
   "cell_type": "code",
   "execution_count": 2,
   "metadata": {},
   "outputs": [],
   "source": [
    "def target_linear_scaling_distribution(reward, actions_history, number_of_actions, pend = 0.5):\n",
    "    target = []\n",
    "    actions_history.reverse()\n",
    "    history_length = len(actions_history)\n",
    "    kp = reward*(number_of_actions-1)/number_of_actions\n",
    "    kq = reward*(1/number_of_actions)\n",
    "    p0 = 1/number_of_actions + kp\n",
    "    q0 = 1/number_of_actions - kq\n",
    "    p_length = reward*(p0 - pend)/history_length\n",
    "    q_length = p_length/(number_of_actions - 1)\n",
    "    p, q = p0, q0\n",
    "    for action in actions_history:\n",
    "        t = [q if action != i else p for i in range (number_of_actions)]\n",
    "        target.append(t)\n",
    "        p = p - p_length \n",
    "        q = q + q_length \n",
    "    target.reverse()\n",
    "    return np.array(target)"
   ]
  },
  {
   "cell_type": "code",
   "execution_count": 3,
   "metadata": {},
   "outputs": [],
   "source": [
    "import random \n",
    "n = 5\n",
    "h = [random.randrange(0, 10) for i in range (n)]\n",
    "r = 0\n",
    "t = target_linear_scaling_distribution(r, h, n)"
   ]
  },
  {
   "cell_type": "markdown",
   "metadata": {},
   "source": [
    "Creiamo un piccolo script per visualizzare la funzione di probabilità."
   ]
  },
  {
   "cell_type": "code",
   "execution_count": 4,
   "metadata": {},
   "outputs": [
    {
     "data": {
      "image/png": "[encoded data removed]",
      "text/plain": [
       "<Figure size 640x480 with 1 Axes>"
      ]
     },
     "metadata": {},
     "output_type": "display_data"
    }
   ],
   "source": [
    "import matplotlib.pyplot as plt\n",
    "\n",
    "for z in range (len(t)):\n",
    "    # Creazione del grafico a barre\n",
    "    plt.bar([i for i in range (0, n)], t[z], color='skyblue')\n",
    "    # Aggiunta di titolo e etichette agli assi\n",
    "    plt.title(f\"Passo : {z} / Reward : {r}\")\n",
    "    plt.xlabel(\"Eventi\")\n",
    "    plt.ylabel(\"Probabilità\")\n",
    "    #plt.show() #togliere il commento per visualizzare l'evoluzione della funzione di probabilità"
   ]
  },
  {
   "cell_type": "code",
   "execution_count": 5,
   "metadata": {},
   "outputs": [],
   "source": [
    "import keras"
   ]
  },
  {
   "cell_type": "markdown",
   "metadata": {},
   "source": [
    "Proviamo ad abbinare il tutto alla nostra rete neurale."
   ]
  },
  {
   "cell_type": "code",
   "execution_count": 6,
   "metadata": {},
   "outputs": [],
   "source": [
    "class CustomModel(keras.Model):\n",
    "    def __init__(self, input_size, number_of_hidden, output_size, hidden_size, activ = \"relu\", out_activ = \"softmax\"):\n",
    "        super().__init__()\n",
    "        self.input1 = keras.Input(shape=(input_size,)) # gli input sono 4\n",
    "        self.hidden = []\n",
    "        for i in range (number_of_hidden):\n",
    "            self.hidden.append(keras.layers.Dense(hidden_size[i], activation = activ))\n",
    "        self.output1 = keras.layers.Dense(output_size, activation = out_activ)\n",
    "\n",
    "    def call(self, inputs):\n",
    "        x = inputs\n",
    "        for h in self.hidden:\n",
    "            x = h(x)\n",
    "        return self.output1(x) "
   ]
  },
  {
   "cell_type": "code",
   "execution_count": 7,
   "metadata": {},
   "outputs": [],
   "source": [
    "batch_size = 10 # equivale alla history size\n",
    "input_size = 9\n",
    "output_size = 3\n",
    "reward = 1\n",
    "x = np.array([[random.uniform(0, 1) for i in range(input_size)] for j in range (batch_size)])\n",
    "history = [random.randrange(0, output_size) for i in range (batch_size)]\n",
    "y = target_linear_scaling_distribution(reward, history, output_size)"
   ]
  },
  {
   "cell_type": "code",
   "execution_count": 8,
   "metadata": {},
   "outputs": [],
   "source": [
    "m = CustomModel(input_size, 5, output_size, [18, 27, 18, 9, 6])\n",
    "m.compile(optimizer=keras.optimizers.Adam(), loss= keras.losses.CategoricalCrossentropy() , metrics=[keras.metrics.CategoricalAccuracy()])"
   ]
  },
  {
   "cell_type": "code",
   "execution_count": 10,
   "metadata": {},
   "outputs": [
    {
     "data": {
      "text/plain": [
       "<keras.src.callbacks.history.History at 0x1c5f1c6f4d0>"
      ]
     },
     "execution_count": 10,
     "metadata": {},
     "output_type": "execute_result"
    }
   ],
   "source": [
    "m.fit(x, y, batch_size, epochs= 100, verbose=0)"
   ]
  },
  {
   "cell_type": "code",
   "execution_count": 11,
   "metadata": {},
   "outputs": [
    {
     "data": {
      "text/plain": [
       "<tf.Tensor: shape=(3,), dtype=float32, numpy=array([0.24729094, 0.45437717, 0.2983318 ], dtype=float32)>"
      ]
     },
     "execution_count": 11,
     "metadata": {},
     "output_type": "execute_result"
    }
   ],
   "source": [
    "test = np.array([[0, 0, 0, 0, 0, 0, 0, 0, 0]])\n",
    "y_test = m(test)\n",
    "y_test[0]"
   ]
  },
  {
   "cell_type": "markdown",
   "metadata": {},
   "source": [
    "Siamo molto soddisfatti. Possiamo dire che funziona. (sarà chiaramente da studiare ancora parecchio ma siamo su una buona strada). Bisogna assolutamente lavorare sul modello per capire come migliorare l'apprendimento del modello ma è ugualmente interessante. Vediamo che i \"macro-comportamenti\" li impara ed è un buon punto di partenza. Già aumentando la complessità del modello vediamo il miglioramento incredibile in termini di loss."
   ]
  },
  {
   "cell_type": "markdown",
   "metadata": {},
   "source": [
    "Implementiamo anche un'altro tipo di target_probability_distribution basato sempre in maniera lineare sull'azione che ha portato il reward ed il reward. Questa volta però non andiamo a creare uniformità sul resto della distribuzione ma andiamo a \"riscalare\" la distribuzione che abbiamo in input. Resta che le azioni sono indicizzate dunque la \"royal action\" sotto definità sarà in realtà l'indice dell'azione che ha portato al reward. In questo caso non andiamo a creare una \"serie\" di distribuzioni ma solo una singola distribuzione. I reward sono sempre numeri compresi tra -1 ed 1."
   ]
  },
  {
   "cell_type": "code",
   "execution_count": 14,
   "metadata": {},
   "outputs": [],
   "source": [
    "def target_linear_rescaled_distribution(reward, royal_action, starting_distribution):\n",
    "\n",
    "    assert reward >= -1 and reward <= 1, 'reward must be between -1 and 1'\n",
    "\n",
    "    starting_distribution = np.array(starting_distribution)\n",
    "    coefficient = np.zeros(len(starting_distribution))\n",
    "    new_royal_probability = min(1, starting_distribution[royal_action]*(1 + reward))\n",
    "    coefficient[royal_action] = new_royal_probability # this is not the real coefficient we use it to be quicker\n",
    "\n",
    "    if new_royal_probability == 1:\n",
    "        return coefficient #just a trick to be quicker in case we hit a 1\n",
    "    \n",
    "    rest = starting_distribution[royal_action]*reward\n",
    "    sum_others = 1 - starting_distribution[royal_action]\n",
    "    ratio = rest/sum_others\n",
    "\n",
    "    coefficient = np.ones(len(starting_distribution))*(1 - ratio)\n",
    "    coefficient[royal_action] = (1 + reward)\n",
    "    \n",
    "    return starting_distribution*coefficient.T"
   ]
  },
  {
   "cell_type": "code",
   "execution_count": 18,
   "metadata": {},
   "outputs": [
    {
     "data": {
      "text/plain": [
       "array([0.00909091, 0.9       , 0.09090909])"
      ]
     },
     "execution_count": 18,
     "metadata": {},
     "output_type": "execute_result"
    }
   ],
   "source": [
    "reward = 1\n",
    "r_a = 1\n",
    "starting_p = [0.05 , 0.45, 0.5]\n",
    "t = target_linear_rescaled_distribution(reward, r_a, starting_p)\n",
    "t"
   ]
  }
 ],
 "metadata": {
  "kernelspec": {
   "display_name": "Python 3",
   "language": "python",
   "name": "python3"
  },
  "language_info": {
   "codemirror_mode": {
    "name": "ipython",
    "version": 3
   },
   "file_extension": ".py",
   "mimetype": "text/x-python",
   "name": "python",
   "nbconvert_exporter": "python",
   "pygments_lexer": "ipython3",
   "version": "3.12.3"
  }
 },
 "nbformat": 4,
 "nbformat_minor": 2
}
