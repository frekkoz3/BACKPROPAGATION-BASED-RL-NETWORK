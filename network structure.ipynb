{
 "cells": [
  {
   "cell_type": "markdown",
   "metadata": {},
   "source": [
    "# BACKPROPAGATION BASED RL NETWORK\n",
    "\n",
    "We are here today to try to develop a special kind of rl neural network. It is based on the traditional backpropagation algorithm and we will see how do we actually do to use it to optimize the research of the optimal policy for our network. \n",
    "\n",
    "To begin remember: what's a policy if not a probablity distribution? (a continuos one for us)"
   ]
  },
  {
   "cell_type": "code",
   "execution_count": 2,
   "metadata": {},
   "outputs": [],
   "source": [
    "import numpy as np\n",
    "import keras"
   ]
  },
  {
   "cell_type": "markdown",
   "metadata": {},
   "source": [
    "We are gonna build a custom structure for our network using keras. This is the main target of this notebook."
   ]
  },
  {
   "cell_type": "code",
   "execution_count": 5,
   "metadata": {},
   "outputs": [],
   "source": [
    "class CustomModel(keras.Model):\n",
    "    def __init__(self, input_size, number_of_hidden, output_size, hidden_size, activ = \"relu\", out_activ = \"softmax\"):\n",
    "        super().__init__()\n",
    "        self.input1 = keras.Input(shape=(input_size,)) # gli input sono 4\n",
    "        self.hidden = []\n",
    "        for i in range (number_of_hidden):\n",
    "            self.hidden.append(keras.layers.Dense(hidden_size[i], activation = activ))\n",
    "        self.output1 = keras.layers.Dense(output_size, activation = out_activ)\n",
    "\n",
    "    def call(self, inputs):\n",
    "        x = inputs\n",
    "        for h in self.hidden:\n",
    "            x = h(x)\n",
    "        return self.output1(x)"
   ]
  },
  {
   "cell_type": "markdown",
   "metadata": {},
   "source": [
    "It just works. Now we are gonna see how to train it. Remember, when we will use a custom structure we will also compile it with the optimizer, the correct loss function and everything else."
   ]
  },
  {
   "cell_type": "code",
   "execution_count": 4,
   "metadata": {},
   "outputs": [],
   "source": [
    "m = CustomModel(input_size=4, number_of_hidden=3, output_size=4, hidden_size=[4, 4, 4])\n",
    "m.compile(optimizer=keras.optimizers.Adam(), loss= keras.losses.CategoricalCrossentropy() , metrics=[keras.metrics.CategoricalAccuracy()])"
   ]
  }
 ],
 "metadata": {
  "kernelspec": {
   "display_name": "Python 3",
   "language": "python",
   "name": "python3"
  },
  "language_info": {
   "codemirror_mode": {
    "name": "ipython",
    "version": 3
   },
   "file_extension": ".py",
   "mimetype": "text/x-python",
   "name": "python",
   "nbconvert_exporter": "python",
   "pygments_lexer": "ipython3",
   "version": "3.12.3"
  }
 },
 "nbformat": 4,
 "nbformat_minor": 2
}
